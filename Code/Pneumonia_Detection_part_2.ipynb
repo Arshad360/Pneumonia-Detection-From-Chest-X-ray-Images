{
  "nbformat": 4,
  "nbformat_minor": 0,
  "metadata": {
    "colab": {
      "name": "Pneumonia_Detection_part_2.ipynb",
      "provenance": [],
      "collapsed_sections": []
    },
    "kernelspec": {
      "name": "python3",
      "display_name": "Python 3"
    },
    "language_info": {
      "name": "python"
    }
  },
  "cells": [
    {
      "cell_type": "markdown",
      "metadata": {
        "id": "xpxzle5zaftm"
      },
      "source": [
        "**VGG 16**"
      ]
    },
    {
      "cell_type": "code",
      "metadata": {
        "colab": {
          "base_uri": "https://localhost:8080/"
        },
        "id": "9eei2p_TZPoW",
        "outputId": "4b53a34e-2ffb-41ee-f3eb-1329d30f143e"
      },
      "source": [
        "from google.colab import drive\n",
        "drive.mount('/content/drive')"
      ],
      "execution_count": null,
      "outputs": [
        {
          "output_type": "stream",
          "name": "stdout",
          "text": [
            "Mounted at /content/drive\n"
          ]
        }
      ]
    },
    {
      "cell_type": "code",
      "metadata": {
        "colab": {
          "base_uri": "https://localhost:8080/"
        },
        "id": "lB6PAhPcZN2f",
        "outputId": "9f67a045-d47c-4c33-f3ac-ec10fabf1910"
      },
      "source": [
        "# importing libraries\n",
        "\n",
        "import numpy as np\n",
        "import pandas as pd\n",
        "import random as rn\n",
        "import matplotlib.pyplot as plt\n",
        "import os\n",
        "import random\n",
        "import glob # to find files\n",
        "\n",
        "# Seaborn library for bar chart\n",
        "import seaborn as sns\n",
        "\n",
        "# Libraries for TensorFlow\n",
        "import tensorflow.random as tfr\n",
        "from tensorflow.keras.utils import to_categorical\n",
        "from tensorflow.keras.preprocessing import image\n",
        "from tensorflow.keras import models, layers\n",
        "\n",
        "# Library for Transfer Learning\n",
        "from tensorflow.keras.applications import VGG16\n",
        "from keras.applications.vgg16 import preprocess_input\n",
        "\n",
        "# Setting the same seed for repeatability\n",
        "\n",
        "seed = 0\n",
        "\n",
        "np.random.seed(seed) \n",
        "rn.seed(seed)\n",
        "tfr.set_seed(seed)\n",
        "\n",
        "print(\"Importing libraries completed.\")"
      ],
      "execution_count": null,
      "outputs": [
        {
          "output_type": "stream",
          "name": "stdout",
          "text": [
            "Importing libraries completed.\n"
          ]
        }
      ]
    },
    {
      "cell_type": "code",
      "metadata": {
        "colab": {
          "base_uri": "https://localhost:8080/"
        },
        "id": "EtppmMXvZN4u",
        "outputId": "890e7f6e-71d7-43d0-b0dc-aa1b77ff1e9e"
      },
      "source": [
        "# Declaring variables\n",
        "\n",
        "# variables for data paths\n",
        "path = '/content/drive/MyDrive/Project_pneumonia_detection/chest_xray/'\n",
        "\n",
        "# train directory\n",
        "train_folder=path+\"train/\"\n",
        "train_normal_dir=train_folder+\"NORMAL/\"\n",
        "train_pneu_dir=train_folder+\"PNEUMONIA/\"\n",
        "# test directory\n",
        "test_folder=path+\"test/\"\n",
        "test_normal_dir=test_folder+\"NORMAL/\"\n",
        "test_pneu_dir=test_folder+\"PNEUMONIA/\"\n",
        "# validation directory\n",
        "val_folder=path+\"val/\"\n",
        "val_normal_dir=val_folder+\"NORMAL/\"\n",
        "val_pneu_dir=val_folder+\"PNEUMONIA/\"\n",
        "\n",
        "# variables for image size\n",
        "img_width=200\n",
        "img_height=200\n",
        "\n",
        "\n",
        "\n",
        "print(\"Variable declaration completed.\")"
      ],
      "execution_count": null,
      "outputs": [
        {
          "output_type": "stream",
          "name": "stdout",
          "text": [
            "Variable declaration completed.\n"
          ]
        }
      ]
    },
    {
      "cell_type": "code",
      "metadata": {
        "colab": {
          "base_uri": "https://localhost:8080/"
        },
        "id": "BZmhP9UpZN6u",
        "outputId": "460b986e-a149-45a9-9676-e9be37e5f337"
      },
      "source": [
        "# listing the folders containing images\n",
        "\n",
        "# Train Dataset\n",
        "train_class_names=os.listdir(train_folder)\n",
        "print(\"Train class names: %s\" % (train_class_names))\n",
        "# print(\"\\n\")\n",
        "\n",
        "# Test Dataset\n",
        "test_class_names=os.listdir(test_folder)\n",
        "print(\"Test class names: %s\" % (test_class_names))\n",
        "# print(\"\\n\")\n",
        "\n",
        "# Validation Dataset\n",
        "val_class_names=os.listdir(val_folder)\n",
        "print(\"Validation class names: %s\" % (val_class_names))\n",
        "\n",
        "print(\"\\nDataset class name listing completed.\")"
      ],
      "execution_count": null,
      "outputs": [
        {
          "output_type": "stream",
          "name": "stdout",
          "text": [
            "Train class names: ['NORMAL', 'PNEUMONIA']\n",
            "Test class names: ['NORMAL', 'PNEUMONIA']\n",
            "Validation class names: ['NORMAL', 'PNEUMONIA']\n",
            "\n",
            "Dataset class name listing completed.\n"
          ]
        }
      ]
    },
    {
      "cell_type": "code",
      "metadata": {
        "colab": {
          "base_uri": "https://localhost:8080/"
        },
        "id": "7oQHY9n-ZN8f",
        "outputId": "4051445c-1a3e-49cd-ed57-2c17e3a87111"
      },
      "source": [
        "# declaration of functions\n",
        "\n",
        "# Function get name of xray type\n",
        "def Get_Xray_Type(argument):\n",
        "    switcher = {\n",
        "        \"NORMAL\": \"Normal\",\n",
        "        \"PNEUMONIA\": \"Pneumonia\",\n",
        "    }\n",
        "    return switcher.get(argument, \"Invalid X-ray\")\n",
        "# Get_Xray_Type(\"NORMAL\") # this is how the function can be called\n",
        "\n",
        "print(\"Declaration of functions completed.\")"
      ],
      "execution_count": null,
      "outputs": [
        {
          "output_type": "stream",
          "name": "stdout",
          "text": [
            "Declaration of functions completed.\n"
          ]
        }
      ]
    },
    {
      "cell_type": "code",
      "metadata": {
        "colab": {
          "base_uri": "https://localhost:8080/"
        },
        "id": "WfUf4-4yZN-b",
        "outputId": "7f40263a-760b-4a5e-92a2-b284ce43553c"
      },
      "source": [
        "# Analysis of Train, Test and Validation directory\n",
        "\n",
        "# find all files, our files has extension jpeg\n",
        "train_normal_cases = glob.glob(train_normal_dir + '*jpeg')\n",
        "train_pneu_cases = glob.glob(train_pneu_dir + '*jpeg')\n",
        "\n",
        "test_normal_cases = glob.glob(test_normal_dir + '*jpeg')\n",
        "test_pneu_cases = glob.glob(test_pneu_dir + '*jpeg')\n",
        "\n",
        "val_normal_cases = glob.glob(val_normal_dir + '*jpeg')\n",
        "val_pneu_cases = glob.glob(val_pneu_dir + '*jpeg')\n",
        "\n",
        "# create lists for train, test & validation cases, create labels as well\n",
        "train_list = []\n",
        "test_list = []\n",
        "val_list = []\n",
        "\n",
        "for x in train_normal_cases:\n",
        "    train_list.append([x, \"Normal\"])\n",
        "    \n",
        "for x in train_pneu_cases:\n",
        "    train_list.append([x, \"Pneumonia\"])\n",
        "    \n",
        "for x in test_normal_cases:\n",
        "    test_list.append([x, \"Normal\"])\n",
        "    \n",
        "for x in test_pneu_cases:\n",
        "    test_list.append([x, \"Pneumonia\"])\n",
        "    \n",
        "for x in val_normal_cases:\n",
        "    val_list.append([x, \"Normal\"])\n",
        "    \n",
        "for x in val_pneu_cases:\n",
        "    val_list.append([x, \"Pneumonia\"])\n",
        "\n",
        "# create dataframes\n",
        "train_df = pd.DataFrame(train_list, columns=['image', 'Diagnos'])\n",
        "print(train_df.shape)\n",
        "test_df = pd.DataFrame(test_list, columns=['image', 'Diagnos'])\n",
        "print(test_df.shape)\n",
        "val_df = pd.DataFrame(val_list, columns=['image', 'Diagnos'])\n",
        "print(val_df.shape)"
      ],
      "execution_count": null,
      "outputs": [
        {
          "output_type": "stream",
          "name": "stdout",
          "text": [
            "(5216, 2)\n",
            "(624, 2)\n",
            "(16, 2)\n"
          ]
        }
      ]
    },
    {
      "cell_type": "code",
      "metadata": {
        "colab": {
          "base_uri": "https://localhost:8080/",
          "height": 478
        },
        "id": "Ul5RzCQvZOAV",
        "outputId": "11e150ec-0266-4a23-94d3-e67dc47a2231"
      },
      "source": [
        "# plotting the Train, Test and Validation image data\n",
        "\n",
        "plt.figure(figsize=(20,5))\n",
        "\n",
        "plt.subplot(1,3,1)\n",
        "sns.countplot(train_df['Diagnos'])\n",
        "plt.title('Train data')\n",
        "\n",
        "plt.subplot(1,3,2)\n",
        "sns.countplot(test_df['Diagnos'])\n",
        "plt.title('Test data')\n",
        "\n",
        "plt.subplot(1,3,3)\n",
        "sns.countplot(val_df['Diagnos'])\n",
        "plt.title('Validation data')\n",
        "\n",
        "plt.show()"
      ],
      "execution_count": null,
      "outputs": [
        {
          "output_type": "stream",
          "name": "stderr",
          "text": [
            "/usr/local/lib/python3.7/dist-packages/seaborn/_decorators.py:43: FutureWarning: Pass the following variable as a keyword arg: x. From version 0.12, the only valid positional argument will be `data`, and passing other arguments without an explicit keyword will result in an error or misinterpretation.\n",
            "  FutureWarning\n",
            "/usr/local/lib/python3.7/dist-packages/seaborn/_decorators.py:43: FutureWarning: Pass the following variable as a keyword arg: x. From version 0.12, the only valid positional argument will be `data`, and passing other arguments without an explicit keyword will result in an error or misinterpretation.\n",
            "  FutureWarning\n",
            "/usr/local/lib/python3.7/dist-packages/seaborn/_decorators.py:43: FutureWarning: Pass the following variable as a keyword arg: x. From version 0.12, the only valid positional argument will be `data`, and passing other arguments without an explicit keyword will result in an error or misinterpretation.\n",
            "  FutureWarning\n"
          ]
        },
        {
          "output_type": "display_data",
          "data": {
            "image/png": "[encoded data removed]",
            "text/plain": [
              "<Figure size 1440x360 with 3 Axes>"
            ]
          },
          "metadata": {
            "needs_background": "light"
          }
        }
      ]
    },
    {
      "cell_type": "code",
      "metadata": {
        "colab": {
          "base_uri": "https://localhost:8080/"
        },
        "id": "KxNaUO2ZZOCA",
        "outputId": "e10de0be-f8a7-48bb-b04a-9021810e96b2"
      },
      "source": [
        "# Preparing Training image data (image array and class name) for processing\n",
        "\n",
        "# Declaring variables\n",
        "x=[] # to store array value of the images\n",
        "y=[] # to store the labels of the images\n",
        "\n",
        "for folder in os.listdir(train_folder):\n",
        "    image_list=os.listdir(train_folder+\"/\"+folder)\n",
        "    for img_name in image_list:\n",
        "        # Loading images\n",
        "        img=image.load_img(train_folder+\"/\"+folder+\"/\"+img_name,target_size=(img_width,img_height))\n",
        "        \n",
        "        # Converting to arrary\n",
        "        img=image.img_to_array(img)\n",
        "        \n",
        "        # Transfer Learning: this is to apply preprocess of VGG16 model to our images before passing it to VGG16\n",
        "        img=preprocess_input(img) #  Optional step\n",
        "        \n",
        "        # Appending the arrarys\n",
        "        x.append(img) # appending image array\n",
        "        y.append(train_class_names.index(folder)) # appending class index to the array\n",
        "        \n",
        "print(\"Preparing Training Dataset Completed.\")"
      ],
      "execution_count": null,
      "outputs": [
        {
          "output_type": "stream",
          "name": "stdout",
          "text": [
            "Preparing Training Dataset Completed.\n"
          ]
        }
      ]
    },
    {
      "cell_type": "code",
      "metadata": {
        "colab": {
          "base_uri": "https://localhost:8080/"
        },
        "id": "E-dkuZByZOD-",
        "outputId": "32af589f-60dc-45cf-cc5c-1c2084a9ab94"
      },
      "source": [
        "# Preparing validation images data (image array and class name) for processing\n",
        "\n",
        "# Declaring variables\n",
        "val_images=[]\n",
        "val_images_Original=[]\n",
        "val_image_label=[] # to store the labels of the images\n",
        "\n",
        "for folder in os.listdir(val_folder):\n",
        "    image_list=os.listdir(val_folder+\"/\"+folder)\n",
        "    for img_name in image_list:\n",
        "        # Loading images\n",
        "        img=image.load_img(val_folder+\"/\"+folder+\"/\"+img_name,target_size=(img_width,img_height))\n",
        "        \n",
        "        # Converting to arrarys\n",
        "        img=image.img_to_array(img)\n",
        "        \n",
        "        # Saving original images, will be used just for display at the end\n",
        "        val_images_Original.append(img.copy())\n",
        "        \n",
        "        # Transfer Learning: this is to apply preprocess of VGG16 to our images before passing it to VGG16\n",
        "        img=preprocess_input(img) #  Optional step\n",
        "        \n",
        "        # Appending arrays\n",
        "        val_images.append(img) # appending image array\n",
        "        val_image_label.append(val_class_names.index(folder))\n",
        "        \n",
        "print(\"Preparing Validation Dataset Completed.\")"
      ],
      "execution_count": null,
      "outputs": [
        {
          "output_type": "stream",
          "name": "stdout",
          "text": [
            "Preparing Validation Dataset Completed.\n"
          ]
        }
      ]
    },
    {
      "cell_type": "code",
      "metadata": {
        "colab": {
          "base_uri": "https://localhost:8080/"
        },
        "id": "jQDB_VYwc7FW",
        "outputId": "b834dc23-a43c-4704-e169-4ccf96178882"
      },
      "source": [
        "# Preparing validation images data (image array and class name) for processing\n",
        "\n",
        "# Declaring variables\n",
        "test_images=[]\n",
        "test_images_Original=[]\n",
        "test_image_label=[] # to store the labels of the images\n",
        "\n",
        "for folder in os.listdir(test_folder):\n",
        "    image_list=os.listdir(test_folder+\"/\"+folder)\n",
        "    for img_name in image_list:\n",
        "        # Loading images\n",
        "        img=image.load_img(test_folder+\"/\"+folder+\"/\"+img_name,target_size=(img_width,img_height))\n",
        "        \n",
        "        # Converting to arrarys\n",
        "        img=image.img_to_array(img)\n",
        "        \n",
        "        # Saving original images, will be used just for display at the end\n",
        "        test_images_Original.append(img.copy())\n",
        "        \n",
        "        # Transfer Learning: this is to apply preprocess of VGG16 to our images before passing it to VGG16\n",
        "        img=preprocess_input(img) #  Optional step\n",
        "        \n",
        "        # Appending arrays\n",
        "        test_images.append(img) # appending image array\n",
        "        test_image_label.append(test_class_names.index(folder))\n",
        "        \n",
        "print(\"Preparing Test Dataset Completed.\")"
      ],
      "execution_count": null,
      "outputs": [
        {
          "output_type": "stream",
          "name": "stdout",
          "text": [
            "Preparing Test Dataset Completed.\n"
          ]
        }
      ]
    },
    {
      "cell_type": "code",
      "metadata": {
        "colab": {
          "base_uri": "https://localhost:8080/"
        },
        "id": "PKPU7h8nc7II",
        "outputId": "58134157-4f36-417a-b980-eac96b7b55dd"
      },
      "source": [
        "# Verifying the output\n",
        "\n",
        "# Training Dataset\n",
        "print(\"Training Dataset\")\n",
        "\n",
        "x=np.array(x) # Converting to np arrary to pass to the model\n",
        "print(x.shape)\n",
        "\n",
        "y=to_categorical(y) # onehot encoding of the labels\n",
        "# print(y)\n",
        "print(y.shape)\n",
        "\n",
        "# ===========\n",
        "\n",
        "# Test Dataset\n",
        "print(\"Test Dataset\")\n",
        "\n",
        "test_images=np.array(test_images) \n",
        "print(test_images.shape)\n",
        "\n",
        "test_image_label=to_categorical(test_image_label) # onehot encoding of the labels)\n",
        "print(test_image_label.shape)\n",
        "\n",
        "# ===========\n",
        "\n",
        "# Validation Dataset\n",
        "print(\"Validation Dataset\")\n",
        "\n",
        "val_images=np.array(val_images) \n",
        "print(val_images.shape)\n",
        "\n",
        "val_image_label=to_categorical(val_image_label) # onehot encoding of the labels)\n",
        "print(val_image_label.shape)"
      ],
      "execution_count": null,
      "outputs": [
        {
          "output_type": "stream",
          "name": "stdout",
          "text": [
            "Training Dataset\n",
            "(5216, 200, 200, 3)\n",
            "(5216, 2)\n",
            "Test Dataset\n",
            "(624, 200, 200, 3)\n",
            "(624, 2)\n",
            "Validation Dataset\n",
            "(16, 200, 200, 3)\n",
            "(16, 2)\n"
          ]
        }
      ]
    },
    {
      "cell_type": "code",
      "metadata": {
        "colab": {
          "base_uri": "https://localhost:8080/"
        },
        "id": "kVrYpU5Nc7KS",
        "outputId": "72a76a7a-6864-48b7-f935-89190ade1e0c"
      },
      "source": [
        "# Check properties of the model that we are going to use for Transfer Learning\n",
        "\n",
        "print(\"Summary of default VGG16 model.\\n\")\n",
        "\n",
        "# we are using VGG16 for transfer learnin here. So we have imported it\n",
        "from tensorflow.keras.applications import VGG16\n",
        "\n",
        "# initializing model with weights='imagenet'i.e. we are carring its original weights\n",
        "model_vgg16=VGG16(weights='imagenet')\n",
        "\n",
        "# display the summary to see the properties of the model\n",
        "model_vgg16.summary()"
      ],
      "execution_count": null,
      "outputs": [
        {
          "output_type": "stream",
          "name": "stdout",
          "text": [
            "Summary of default VGG16 model.\n",
            "\n",
            "Downloading data from https://storage.googleapis.com/tensorflow/keras-applications/vgg16/vgg16_weights_tf_dim_ordering_tf_kernels.h5\n",
            "553467904/553467096 [==============================] - 4s 0us/step\n",
            "553476096/553467096 [==============================] - 4s 0us/step\n",
            "Model: \"vgg16\"\n",
            "_________________________________________________________________\n",
            "Layer (type)                 Output Shape              Param #   \n",
            "=================================================================\n",
            "input_1 (InputLayer)         [(None, 224, 224, 3)]     0         \n",
            "_________________________________________________________________\n",
            "block1_conv1 (Conv2D)        (None, 224, 224, 64)      1792      \n",
            "_________________________________________________________________\n",
            "block1_conv2 (Conv2D)        (None, 224, 224, 64)      36928     \n",
            "_________________________________________________________________\n",
            "block1_pool (MaxPooling2D)   (None, 112, 112, 64)      0         \n",
            "_________________________________________________________________\n",
            "block2_conv1 (Conv2D)        (None, 112, 112, 128)     73856     \n",
            "_________________________________________________________________\n",
            "block2_conv2 (Conv2D)        (None, 112, 112, 128)     147584    \n",
            "_________________________________________________________________\n",
            "block2_pool (MaxPooling2D)   (None, 56, 56, 128)       0         \n",
            "_________________________________________________________________\n",
            "block3_conv1 (Conv2D)        (None, 56, 56, 256)       295168    \n",
            "_________________________________________________________________\n",
            "block3_conv2 (Conv2D)        (None, 56, 56, 256)       590080    \n",
            "_________________________________________________________________\n",
            "block3_conv3 (Conv2D)        (None, 56, 56, 256)       590080    \n",
            "_________________________________________________________________\n",
            "block3_pool (MaxPooling2D)   (None, 28, 28, 256)       0         \n",
            "_________________________________________________________________\n",
            "block4_conv1 (Conv2D)        (None, 28, 28, 512)       1180160   \n",
            "_________________________________________________________________\n",
            "block4_conv2 (Conv2D)        (None, 28, 28, 512)       2359808   \n",
            "_________________________________________________________________\n",
            "block4_conv3 (Conv2D)        (None, 28, 28, 512)       2359808   \n",
            "_________________________________________________________________\n",
            "block4_pool (MaxPooling2D)   (None, 14, 14, 512)       0         \n",
            "_________________________________________________________________\n",
            "block5_conv1 (Conv2D)        (None, 14, 14, 512)       2359808   \n",
            "_________________________________________________________________\n",
            "block5_conv2 (Conv2D)        (None, 14, 14, 512)       2359808   \n",
            "_________________________________________________________________\n",
            "block5_conv3 (Conv2D)        (None, 14, 14, 512)       2359808   \n",
            "_________________________________________________________________\n",
            "block5_pool (MaxPooling2D)   (None, 7, 7, 512)         0         \n",
            "_________________________________________________________________\n",
            "flatten (Flatten)            (None, 25088)             0         \n",
            "_________________________________________________________________\n",
            "fc1 (Dense)                  (None, 4096)              102764544 \n",
            "_________________________________________________________________\n",
            "fc2 (Dense)                  (None, 4096)              16781312  \n",
            "_________________________________________________________________\n",
            "predictions (Dense)          (None, 1000)              4097000   \n",
            "=================================================================\n",
            "Total params: 138,357,544\n",
            "Trainable params: 138,357,544\n",
            "Non-trainable params: 0\n",
            "_________________________________________________________________\n"
          ]
        }
      ]
    },
    {
      "cell_type": "markdown",
      "metadata": {
        "id": "lpJ9NPvwdg6-"
      },
      "source": [
        "**Observations:**\n",
        "**We want to carry weights as it was in original model, so we are carring weights = 'imagenet'\n",
        "The very first layer is input layer which accept image size = (224, 224, 3). Our image size are different, so we need to change the parameter - image_size in the first layer. Our size will be: (224,224, 3)\n",
        "We want to change the last layer as we have 10 class classificatoin problem. So, we will not include top layer\n",
        "Also, we will not train all the layers except the last one as we will have to train that. So, we will set properties for trainable = False excet for the top i.e. last layer bold text**. \n"
      ]
    },
    {
      "cell_type": "markdown",
      "metadata": {
        "id": "zUtWtW8md0aK"
      },
      "source": [
        "**Custom use VGG16 model (set input layer, remove last (top) layer)**"
      ]
    },
    {
      "cell_type": "code",
      "metadata": {
        "colab": {
          "base_uri": "https://localhost:8080/"
        },
        "id": "PVZGqak_dxaA",
        "outputId": "03caa498-fbc8-424b-b36f-6b97eefe7cc1"
      },
      "source": [
        "# Modelling WITH Transfer Learning\n",
        "\n",
        "# Here we will prepare model as per our requirements\n",
        "\n",
        "print(\"Summary of Custom VGG16 model.\\n\")\n",
        "print(\"1) We setup input layer and 2) We removed top (last) layer. \\n\")\n",
        "\n",
        "# let us prepare our input_layer to pass our image size. default is (224,224,3). we will change it to (224,224,3)\n",
        "input_layer=layers.Input(shape=(img_width,img_height,3))\n",
        "\n",
        "# initialize the transfer model VGG16 with appropriate properties per our need.\n",
        "# we are passing paramers as following\n",
        "# 1) weights='imagenet' - Using this we are carring weights as of original weights.\n",
        "# 2) input_tensor to pass the VGG16 using input_tensor\n",
        "# 3) we want to change the last layer so we are not including top layer\n",
        "model_vgg16=VGG16(weights='imagenet',input_tensor=input_layer,include_top=False)\n",
        "\n",
        "# See the summary of the model with our properties.\n",
        "model_vgg16.summary()"
      ],
      "execution_count": null,
      "outputs": [
        {
          "output_type": "stream",
          "name": "stdout",
          "text": [
            "Summary of Custom VGG16 model.\n",
            "\n",
            "1) We setup input layer and 2) We removed top (last) layer. \n",
            "\n",
            "Downloading data from https://storage.googleapis.com/tensorflow/keras-applications/vgg16/vgg16_weights_tf_dim_ordering_tf_kernels_notop.h5\n",
            "58892288/58889256 [==============================] - 0s 0us/step\n",
            "58900480/58889256 [==============================] - 0s 0us/step\n",
            "Model: \"vgg16\"\n",
            "_________________________________________________________________\n",
            "Layer (type)                 Output Shape              Param #   \n",
            "=================================================================\n",
            "input_2 (InputLayer)         [(None, 200, 200, 3)]     0         \n",
            "_________________________________________________________________\n",
            "block1_conv1 (Conv2D)        (None, 200, 200, 64)      1792      \n",
            "_________________________________________________________________\n",
            "block1_conv2 (Conv2D)        (None, 200, 200, 64)      36928     \n",
            "_________________________________________________________________\n",
            "block1_pool (MaxPooling2D)   (None, 100, 100, 64)      0         \n",
            "_________________________________________________________________\n",
            "block2_conv1 (Conv2D)        (None, 100, 100, 128)     73856     \n",
            "_________________________________________________________________\n",
            "block2_conv2 (Conv2D)        (None, 100, 100, 128)     147584    \n",
            "_________________________________________________________________\n",
            "block2_pool (MaxPooling2D)   (None, 50, 50, 128)       0         \n",
            "_________________________________________________________________\n",
            "block3_conv1 (Conv2D)        (None, 50, 50, 256)       295168    \n",
            "_________________________________________________________________\n",
            "block3_conv2 (Conv2D)        (None, 50, 50, 256)       590080    \n",
            "_________________________________________________________________\n",
            "block3_conv3 (Conv2D)        (None, 50, 50, 256)       590080    \n",
            "_________________________________________________________________\n",
            "block3_pool (MaxPooling2D)   (None, 25, 25, 256)       0         \n",
            "_________________________________________________________________\n",
            "block4_conv1 (Conv2D)        (None, 25, 25, 512)       1180160   \n",
            "_________________________________________________________________\n",
            "block4_conv2 (Conv2D)        (None, 25, 25, 512)       2359808   \n",
            "_________________________________________________________________\n",
            "block4_conv3 (Conv2D)        (None, 25, 25, 512)       2359808   \n",
            "_________________________________________________________________\n",
            "block4_pool (MaxPooling2D)   (None, 12, 12, 512)       0         \n",
            "_________________________________________________________________\n",
            "block5_conv1 (Conv2D)        (None, 12, 12, 512)       2359808   \n",
            "_________________________________________________________________\n",
            "block5_conv2 (Conv2D)        (None, 12, 12, 512)       2359808   \n",
            "_________________________________________________________________\n",
            "block5_conv3 (Conv2D)        (None, 12, 12, 512)       2359808   \n",
            "_________________________________________________________________\n",
            "block5_pool (MaxPooling2D)   (None, 6, 6, 512)         0         \n",
            "=================================================================\n",
            "Total params: 14,714,688\n",
            "Trainable params: 14,714,688\n",
            "Non-trainable params: 0\n",
            "_________________________________________________________________\n"
          ]
        }
      ]
    },
    {
      "cell_type": "markdown",
      "metadata": {
        "id": "hxZxwPNHd-IO"
      },
      "source": [
        "Observation:\n",
        "\n",
        "The first layer is having image size = (224,224,3) now as we defined.\n",
        "Also, see the folloiwng 2 top (last) layers which were there in original VGG16 are now not the part of our customized layer because we set include_top=False:\n",
        "flatten (Flatten) (None, 25088) 0\n",
        "\n",
        "fc1 (Dense) (None, 4096) 102764544\n",
        "\n",
        "fc2 (Dense) (None, 4096) 16781312\n",
        "\n",
        "predictions (Dense) (None, 1000) 4097000"
      ]
    },
    {
      "cell_type": "code",
      "metadata": {
        "colab": {
          "base_uri": "https://localhost:8080/"
        },
        "id": "dlaIiaGQdxcZ",
        "outputId": "b32a5975-6fb0-435c-df04-24b718650cc0"
      },
      "source": [
        "# access the current last layer of the model and add flatten and dense after it\n",
        "\n",
        "print(\"Summary of Custom VGG16 model.\\n\")\n",
        "print(\"1) We flatten the last layer and added 1 Dense layer and 1 output layer.\\n\")\n",
        "\n",
        "last_layer=model_vgg16.output # we are taking last layer of the model\n",
        "\n",
        "# Add flatten layer: we are extending Neural Network by adding flattn layer\n",
        "flatten=layers.Flatten()(last_layer) \n",
        "\n",
        "# Add dense layer\n",
        "# dense1=layers.Dense(100,activation='relu')(flatten)\n",
        "\n",
        "# Add dense layer to the final output layer\n",
        "output_layer=layers.Dense(2,activation='softmax')(flatten)\n",
        "\n",
        "# Creating modle with input and output layer\n",
        "model=models.Model(inputs=input_layer,outputs=output_layer)\n",
        "\n",
        "# Summarize the model\n",
        "model.summary()"
      ],
      "execution_count": null,
      "outputs": [
        {
          "output_type": "stream",
          "name": "stdout",
          "text": [
            "Summary of Custom VGG16 model.\n",
            "\n",
            "1) We flatten the last layer and added 1 Dense layer and 1 output layer.\n",
            "\n",
            "Model: \"model\"\n",
            "_________________________________________________________________\n",
            "Layer (type)                 Output Shape              Param #   \n",
            "=================================================================\n",
            "input_2 (InputLayer)         [(None, 200, 200, 3)]     0         \n",
            "_________________________________________________________________\n",
            "block1_conv1 (Conv2D)        (None, 200, 200, 64)      1792      \n",
            "_________________________________________________________________\n",
            "block1_conv2 (Conv2D)        (None, 200, 200, 64)      36928     \n",
            "_________________________________________________________________\n",
            "block1_pool (MaxPooling2D)   (None, 100, 100, 64)      0         \n",
            "_________________________________________________________________\n",
            "block2_conv1 (Conv2D)        (None, 100, 100, 128)     73856     \n",
            "_________________________________________________________________\n",
            "block2_conv2 (Conv2D)        (None, 100, 100, 128)     147584    \n",
            "_________________________________________________________________\n",
            "block2_pool (MaxPooling2D)   (None, 50, 50, 128)       0         \n",
            "_________________________________________________________________\n",
            "block3_conv1 (Conv2D)        (None, 50, 50, 256)       295168    \n",
            "_________________________________________________________________\n",
            "block3_conv2 (Conv2D)        (None, 50, 50, 256)       590080    \n",
            "_________________________________________________________________\n",
            "block3_conv3 (Conv2D)        (None, 50, 50, 256)       590080    \n",
            "_________________________________________________________________\n",
            "block3_pool (MaxPooling2D)   (None, 25, 25, 256)       0         \n",
            "_________________________________________________________________\n",
            "block4_conv1 (Conv2D)        (None, 25, 25, 512)       1180160   \n",
            "_________________________________________________________________\n",
            "block4_conv2 (Conv2D)        (None, 25, 25, 512)       2359808   \n",
            "_________________________________________________________________\n",
            "block4_conv3 (Conv2D)        (None, 25, 25, 512)       2359808   \n",
            "_________________________________________________________________\n",
            "block4_pool (MaxPooling2D)   (None, 12, 12, 512)       0         \n",
            "_________________________________________________________________\n",
            "block5_conv1 (Conv2D)        (None, 12, 12, 512)       2359808   \n",
            "_________________________________________________________________\n",
            "block5_conv2 (Conv2D)        (None, 12, 12, 512)       2359808   \n",
            "_________________________________________________________________\n",
            "block5_conv3 (Conv2D)        (None, 12, 12, 512)       2359808   \n",
            "_________________________________________________________________\n",
            "block5_pool (MaxPooling2D)   (None, 6, 6, 512)         0         \n",
            "_________________________________________________________________\n",
            "flatten (Flatten)            (None, 18432)             0         \n",
            "_________________________________________________________________\n",
            "dense (Dense)                (None, 2)                 36866     \n",
            "=================================================================\n",
            "Total params: 14,751,554\n",
            "Trainable params: 14,751,554\n",
            "Non-trainable params: 0\n",
            "_________________________________________________________________\n"
          ]
        }
      ]
    },
    {
      "cell_type": "code",
      "metadata": {
        "colab": {
          "base_uri": "https://localhost:8080/"
        },
        "id": "808m4gjRdxeg",
        "outputId": "b428841d-535c-4404-931e-3f827d6d3e60"
      },
      "source": [
        "# we will freez all the layers except the last layer\n",
        "\n",
        "# we are making all the layers intrainable except the last layer\n",
        "print(\"We are making all the layers intrainable except the last layer. \\n\")\n",
        "for layer in model.layers[:-1]:\n",
        "    layer.trainable=False\n",
        "model.summary()"
      ],
      "execution_count": null,
      "outputs": [
        {
          "output_type": "stream",
          "name": "stdout",
          "text": [
            "We are making all the layers intrainable except the last layer. \n",
            "\n",
            "Model: \"model\"\n",
            "_________________________________________________________________\n",
            "Layer (type)                 Output Shape              Param #   \n",
            "=================================================================\n",
            "input_2 (InputLayer)         [(None, 200, 200, 3)]     0         \n",
            "_________________________________________________________________\n",
            "block1_conv1 (Conv2D)        (None, 200, 200, 64)      1792      \n",
            "_________________________________________________________________\n",
            "block1_conv2 (Conv2D)        (None, 200, 200, 64)      36928     \n",
            "_________________________________________________________________\n",
            "block1_pool (MaxPooling2D)   (None, 100, 100, 64)      0         \n",
            "_________________________________________________________________\n",
            "block2_conv1 (Conv2D)        (None, 100, 100, 128)     73856     \n",
            "_________________________________________________________________\n",
            "block2_conv2 (Conv2D)        (None, 100, 100, 128)     147584    \n",
            "_________________________________________________________________\n",
            "block2_pool (MaxPooling2D)   (None, 50, 50, 128)       0         \n",
            "_________________________________________________________________\n",
            "block3_conv1 (Conv2D)        (None, 50, 50, 256)       295168    \n",
            "_________________________________________________________________\n",
            "block3_conv2 (Conv2D)        (None, 50, 50, 256)       590080    \n",
            "_________________________________________________________________\n",
            "block3_conv3 (Conv2D)        (None, 50, 50, 256)       590080    \n",
            "_________________________________________________________________\n",
            "block3_pool (MaxPooling2D)   (None, 25, 25, 256)       0         \n",
            "_________________________________________________________________\n",
            "block4_conv1 (Conv2D)        (None, 25, 25, 512)       1180160   \n",
            "_________________________________________________________________\n",
            "block4_conv2 (Conv2D)        (None, 25, 25, 512)       2359808   \n",
            "_________________________________________________________________\n",
            "block4_conv3 (Conv2D)        (None, 25, 25, 512)       2359808   \n",
            "_________________________________________________________________\n",
            "block4_pool (MaxPooling2D)   (None, 12, 12, 512)       0         \n",
            "_________________________________________________________________\n",
            "block5_conv1 (Conv2D)        (None, 12, 12, 512)       2359808   \n",
            "_________________________________________________________________\n",
            "block5_conv2 (Conv2D)        (None, 12, 12, 512)       2359808   \n",
            "_________________________________________________________________\n",
            "block5_conv3 (Conv2D)        (None, 12, 12, 512)       2359808   \n",
            "_________________________________________________________________\n",
            "block5_pool (MaxPooling2D)   (None, 6, 6, 512)         0         \n",
            "_________________________________________________________________\n",
            "flatten (Flatten)            (None, 18432)             0         \n",
            "_________________________________________________________________\n",
            "dense (Dense)                (None, 2)                 36866     \n",
            "=================================================================\n",
            "Total params: 14,751,554\n",
            "Trainable params: 36,866\n",
            "Non-trainable params: 14,714,688\n",
            "_________________________________________________________________\n"
          ]
        }
      ]
    },
    {
      "cell_type": "code",
      "metadata": {
        "colab": {
          "base_uri": "https://localhost:8080/"
        },
        "id": "2CVAUU_VeF5n",
        "outputId": "ddf01566-ef4f-4b40-a14b-dcd1e6fc79d7"
      },
      "source": [
        "# Train the Model\n",
        "\n",
        "from sklearn.model_selection import train_test_split\n",
        "xtrain, xtest, ytrain, ytest = train_test_split(x,y,test_size=0.2,random_state=5)\n",
        "# print(xtrain)\n",
        "# print(xtest)\n",
        "# print(ytrain)\n",
        "# print(ytest)\n",
        "\n",
        "print(\"Splitting data for train and test completed.\")"
      ],
      "execution_count": null,
      "outputs": [
        {
          "output_type": "stream",
          "name": "stdout",
          "text": [
            "Splitting data for train and test completed.\n"
          ]
        }
      ]
    },
    {
      "cell_type": "code",
      "metadata": {
        "colab": {
          "base_uri": "https://localhost:8080/"
        },
        "id": "jubJKRl4eF9u",
        "outputId": "ce8dd35f-ebdf-4fa3-d8b6-3c339c83a109"
      },
      "source": [
        "# Compiling Model\n",
        "\n",
        "model.compile(loss='categorical_crossentropy', optimizer='adam',metrics=['accuracy'])\n",
        "\n",
        "print(\"Model compilation completed.\")"
      ],
      "execution_count": null,
      "outputs": [
        {
          "output_type": "stream",
          "name": "stdout",
          "text": [
            "Model compilation completed.\n"
          ]
        }
      ]
    },
    {
      "cell_type": "code",
      "metadata": {
        "colab": {
          "base_uri": "https://localhost:8080/"
        },
        "id": "s0lby1P8eF_v",
        "outputId": "c4570367-e282-4d79-f8a2-17d5f11558c8"
      },
      "source": [
        "# Fit the Model\n",
        "\n",
        "learning_history = model.fit(xtrain,ytrain,\n",
        "          epochs=10,\n",
        "          batch_size=64,\n",
        "          verbose=True,\n",
        "          validation_data=(xtest,ytest))\n",
        "\n",
        "print(\"Fitting the model completed.\")"
      ],
      "execution_count": null,
      "outputs": [
        {
          "output_type": "stream",
          "name": "stdout",
          "text": [
            "Epoch 1/10\n",
            "66/66 [==============================] - 2092s 32s/step - loss: 2.3771 - accuracy: 0.9192 - val_loss: 0.3461 - val_accuracy: 0.9761\n",
            "Epoch 2/10\n",
            "66/66 [==============================] - 2088s 32s/step - loss: 0.1408 - accuracy: 0.9878 - val_loss: 0.2365 - val_accuracy: 0.9847\n",
            "Epoch 3/10\n",
            "66/66 [==============================] - 2079s 32s/step - loss: 0.0435 - accuracy: 0.9942 - val_loss: 0.1493 - val_accuracy: 0.9875\n",
            "Epoch 4/10\n",
            "66/66 [==============================] - 2069s 31s/step - loss: 0.0070 - accuracy: 0.9986 - val_loss: 0.1285 - val_accuracy: 0.9856\n",
            "Epoch 5/10\n",
            "66/66 [==============================] - 2064s 31s/step - loss: 0.0052 - accuracy: 0.9986 - val_loss: 0.1284 - val_accuracy: 0.9856\n",
            "Epoch 6/10\n",
            "66/66 [==============================] - 2065s 31s/step - loss: 0.0058 - accuracy: 0.9988 - val_loss: 0.1498 - val_accuracy: 0.9885\n",
            "Epoch 7/10\n",
            "66/66 [==============================] - 2063s 31s/step - loss: 4.4659e-04 - accuracy: 1.0000 - val_loss: 0.1569 - val_accuracy: 0.9875\n",
            "Epoch 8/10\n",
            "66/66 [==============================] - 2063s 31s/step - loss: 0.0036 - accuracy: 0.9990 - val_loss: 0.1683 - val_accuracy: 0.9885\n",
            "Epoch 9/10\n",
            "66/66 [==============================] - 2060s 31s/step - loss: 0.0045 - accuracy: 0.9993 - val_loss: 0.1354 - val_accuracy: 0.9885\n",
            "Epoch 10/10\n",
            "66/66 [==============================] - 2062s 31s/step - loss: 1.9788e-06 - accuracy: 1.0000 - val_loss: 0.1384 - val_accuracy: 0.9875\n",
            "Fitting the model completed.\n"
          ]
        }
      ]
    },
    {
      "cell_type": "code",
      "metadata": {
        "id": "w_jeI8VgeOOv",
        "colab": {
          "base_uri": "https://localhost:8080/"
        },
        "outputId": "0dc5311d-4108-4ce4-bb38-724c20bbba6a"
      },
      "source": [
        "score = model.evaluate(xtest, ytest, verbose = True)\n",
        "print('Test loss: {}%'.format(score[0] * 100))\n",
        "print('Test accuracy: {}%'.format(score[1] * 100))"
      ],
      "execution_count": null,
      "outputs": [
        {
          "output_type": "stream",
          "name": "stdout",
          "text": [
            "33/33 [==============================] - 414s 13s/step - loss: 0.1384 - accuracy: 0.9875\n",
            "Test loss: 13.837599754333496%\n",
            "Test accuracy: 98.75478744506836%\n"
          ]
        }
      ]
    },
    {
      "cell_type": "code",
      "metadata": {
        "id": "5XnqAF5107D2"
      },
      "source": [
        "def draw_learning_curve(history, keys=['accuracy', 'loss']):\n",
        "    plt.figure(figsize=(20,8))\n",
        "    for i, key in enumerate(keys):\n",
        "        plt.subplot(1, 2, i + 1)\n",
        "        sns.lineplot(x = history.epoch, y = history.history[key])\n",
        "        sns.lineplot(x = history.epoch, y = history.history['val_' + key])\n",
        "        plt.title('Learning Curve')\n",
        "        plt.ylabel(key.title())\n",
        "        plt.xlabel('Epoch')\n",
        "        plt.legend(['train', 'test'], loc='best')\n",
        "    plt.show()"
      ],
      "execution_count": null,
      "outputs": []
    },
    {
      "cell_type": "code",
      "metadata": {
        "id": "pjjRwp2D0kEm",
        "colab": {
          "base_uri": "https://localhost:8080/",
          "height": 285
        },
        "outputId": "4307f8df-679c-4adf-9f79-bd35d4cfdcb7"
      },
      "source": [
        "draw_learning_curve(learning_history)"
      ],
      "execution_count": null,
      "outputs": [
        {
          "data": {
            "image/png": "[encoded data removed]",
            "text/plain": [
              "<Figure size 1440x576 with 2 Axes>"
            ]
          },
          "metadata": {},
          "output_type": "display_data"
        }
      ]
    },
    {
      "cell_type": "code",
      "metadata": {
        "id": "EDtNWK7MVLnP"
      },
      "source": [
        "y_pred = model.predict(xtrain)\n",
        "y_pred = np.argmax(y_pred, axis = 1)"
      ],
      "execution_count": null,
      "outputs": []
    },
    {
      "cell_type": "code",
      "metadata": {
        "id": "bK5guZX5VLq4"
      },
      "source": [
        "y_pre_test = np.argmax(ytest, axis = 1)"
      ],
      "execution_count": null,
      "outputs": []
    },
    {
      "cell_type": "code",
      "metadata": {
        "id": "AsD_GMaVVOsQ"
      },
      "source": [
        "print(classification_report(y_pre_test, y_pred))"
      ],
      "execution_count": null,
      "outputs": []
    }
  ]
}