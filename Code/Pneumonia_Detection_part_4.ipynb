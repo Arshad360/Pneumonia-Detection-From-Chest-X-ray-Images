{
  "nbformat": 4,
  "nbformat_minor": 0,
  "metadata": {
    "colab": {
      "name": "Pneumonia_Detection_part_4.ipynb",
      "provenance": [],
      "collapsed_sections": []
    },
    "kernelspec": {
      "display_name": "Python 3",
      "name": "python3"
    },
    "language_info": {
      "name": "python"
    }
  },
  "cells": [
    {
      "cell_type": "markdown",
      "metadata": {
        "id": "5ILe-rc0qvfE"
      },
      "source": [
        "**DenseNet169**"
      ]
    },
    {
      "cell_type": "code",
      "metadata": {
        "colab": {
          "base_uri": "https://localhost:8080/"
        },
        "id": "qpvM_YJckMH7",
        "outputId": "daaa3f19-642c-4d89-9156-d8ea7b002f4f"
      },
      "source": [
        "import os\n",
        "import numpy as np\n",
        "import matplotlib.pyplot as plt\n",
        "import random\n",
        "import cv2 as cv\n",
        "\n",
        "from tensorflow.keras.preprocessing.image import ImageDataGenerator\n",
        "from tensorflow.keras import Sequential\n",
        "from tensorflow.keras.applications import DenseNet169\n",
        "from tensorflow.keras.layers import GlobalAveragePooling2D, Dense, Dropout\n",
        "from tensorflow.keras.callbacks import ModelCheckpoint, EarlyStopping, ReduceLROnPlateau\n",
        "\n",
        "print('Imported Successfully')"
      ],
      "execution_count": null,
      "outputs": [
        {
          "name": "stdout",
          "output_type": "stream",
          "text": [
            "Imported Successfully\n"
          ]
        }
      ]
    },
    {
      "cell_type": "code",
      "metadata": {
        "id": "r1gpr9ODkfxN"
      },
      "source": [
        "train_path = \"/content/drive/MyDrive/Project_pneumonia_detection/chest_xray/train/\"\n",
        "val_path = \"/content/drive/MyDrive/Project_pneumonia_detection/chest_xray/val/\"\n",
        "test_path = \"/content/drive/MyDrive/Project_pneumonia_detection/chest_xray/test/\""
      ],
      "execution_count": null,
      "outputs": []
    },
    {
      "cell_type": "code",
      "metadata": {
        "id": "x9ToNiwFkoQG"
      },
      "source": [
        "train_datagen = ImageDataGenerator(\n",
        "                                \n",
        "    rotation_range=60,\n",
        "    width_shift_range=0.2,\n",
        "    height_shift_range=0.2,\n",
        "    brightness_range=(0.6,1.2),\n",
        "    shear_range=0.2,\n",
        "    zoom_range=0.3,\n",
        "    horizontal_flip=True,\n",
        "    vertical_flip=True,\n",
        "    rescale=1./255,\n",
        ")\n",
        "\n",
        "test_datagen = ImageDataGenerator(rescale=1./255)"
      ],
      "execution_count": null,
      "outputs": []
    },
    {
      "cell_type": "code",
      "metadata": {
        "colab": {
          "base_uri": "https://localhost:8080/"
        },
        "id": "PZk5y4nAkoS8",
        "outputId": "29c4a2b6-0724-4c62-c1e7-a5627199036f"
      },
      "source": [
        "train_generator = train_datagen.flow_from_directory(\n",
        "    \n",
        "    train_path,\n",
        "    target_size=(200,200),\n",
        "    class_mode=\"binary\",\n",
        "    batch_size=16,\n",
        "    shuffle=True,\n",
        "    seed=44,\n",
        ")\n",
        "\n",
        "test_generator = test_datagen.flow_from_directory(\n",
        "    \n",
        "    test_path,\n",
        "    target_size=(200,200),\n",
        "    class_mode=\"binary\",\n",
        "    batch_size=16,\n",
        "    \n",
        ")\n",
        "\n",
        "val_generator = test_datagen.flow_from_directory(\n",
        "    \n",
        "    val_path,\n",
        "    target_size=(200,200),\n",
        "    class_mode=\"binary\",\n",
        "    batch_size=8,\n",
        "    \n",
        ")"
      ],
      "execution_count": null,
      "outputs": [
        {
          "name": "stdout",
          "output_type": "stream",
          "text": [
            "Found 5216 images belonging to 2 classes.\n",
            "Found 624 images belonging to 2 classes.\n",
            "Found 16 images belonging to 2 classes.\n"
          ]
        }
      ]
    },
    {
      "cell_type": "code",
      "metadata": {
        "colab": {
          "base_uri": "https://localhost:8080/"
        },
        "id": "h0sMj0krkoYG",
        "outputId": "3792547c-ba49-488c-e592-7a98699cf5a2"
      },
      "source": [
        "base_model = DenseNet169(\n",
        "    \n",
        "    include_top=False,\n",
        "    weights=\"imagenet\",\n",
        "    input_shape=(200, 200, 3),\n",
        ")\n",
        "\n",
        "for layer in base_model.layers:\n",
        "    layer.trainable = False\n",
        "    \n",
        "\n",
        "model = Sequential([\n",
        "    \n",
        "    base_model,\n",
        "    GlobalAveragePooling2D(),\n",
        "    Dense(128, activation=\"relu\"),\n",
        "    Dropout(0.3),\n",
        "    Dense(1, activation=\"sigmoid\"),\n",
        "])\n",
        "\n",
        "model.summary()"
      ],
      "execution_count": null,
      "outputs": [
        {
          "name": "stdout",
          "output_type": "stream",
          "text": [
            "Downloading data from https://storage.googleapis.com/tensorflow/keras-applications/densenet/densenet169_weights_tf_dim_ordering_tf_kernels_notop.h5\n",
            "51879936/51877672 [==============================] - 1s 0us/step\n",
            "51888128/51877672 [==============================] - 1s 0us/step\n",
            "Model: \"sequential\"\n",
            "_________________________________________________________________\n",
            "Layer (type)                 Output Shape              Param #   \n",
            "=================================================================\n",
            "densenet169 (Functional)     (None, 6, 6, 1664)        12642880  \n",
            "_________________________________________________________________\n",
            "global_average_pooling2d (Gl (None, 1664)              0         \n",
            "_________________________________________________________________\n",
            "dense (Dense)                (None, 128)               213120    \n",
            "_________________________________________________________________\n",
            "dropout (Dropout)            (None, 128)               0         \n",
            "_________________________________________________________________\n",
            "dense_1 (Dense)              (None, 1)                 129       \n",
            "=================================================================\n",
            "Total params: 12,856,129\n",
            "Trainable params: 213,249\n",
            "Non-trainable params: 12,642,880\n",
            "_________________________________________________________________\n"
          ]
        }
      ]
    },
    {
      "cell_type": "code",
      "metadata": {
        "colab": {
          "background_save": true,
          "base_uri": "https://localhost:8080/"
        },
        "id": "bROlcyl0koaX",
        "outputId": "5840fecf-137f-4a66-95d0-d5c38221a504"
      },
      "source": [
        "model.compile(optimizer=\"adam\", loss='binary_crossentropy', metrics=[\"accuracy\"])\n",
        "\n",
        "es = EarlyStopping(monitor='accuracy', patience=4)\n",
        "mc = ModelCheckpoint(\"./\", monitor=\"accuracy\", save_best_only=True)\n",
        "rl = ReduceLROnPlateau(monitor=\"accuracy\", factor=0.2, patience=2, min_lr=0.00001)\n",
        "\n",
        "history = model.fit(\n",
        "    \n",
        "    train_generator, \n",
        "    validation_data=val_generator, \n",
        "    steps_per_epoch = 100, \n",
        "    epochs=20, \n",
        "    callbacks=[es,mc,rl],\n",
        ")"
      ],
      "execution_count": null,
      "outputs": [
        {
          "name": "stdout",
          "output_type": "stream",
          "text": [
            "Epoch 1/20\n",
            "100/100 [==============================] - 670s 7s/step - loss: 0.3760 - accuracy: 0.8313 - val_loss: 0.2665 - val_accuracy: 1.0000\n",
            "INFO:tensorflow:Assets written to: ./assets\n",
            "Epoch 2/20\n",
            "100/100 [==============================] - 485s 5s/step - loss: 0.2624 - accuracy: 0.8944 - val_loss: 0.2407 - val_accuracy: 1.0000\n",
            "INFO:tensorflow:Assets written to: ./assets\n",
            "Epoch 3/20\n",
            "100/100 [==============================] - 367s 4s/step - loss: 0.2224 - accuracy: 0.9125 - val_loss: 0.2624 - val_accuracy: 0.9375\n",
            "INFO:tensorflow:Assets written to: ./assets\n",
            "Epoch 4/20\n",
            "100/100 [==============================] - 273s 3s/step - loss: 0.2111 - accuracy: 0.9106 - val_loss: 0.1974 - val_accuracy: 0.9375\n",
            "Epoch 5/20\n",
            "100/100 [==============================] - 260s 3s/step - loss: 0.1774 - accuracy: 0.9269 - val_loss: 0.2084 - val_accuracy: 0.9375\n",
            "INFO:tensorflow:Assets written to: ./assets\n",
            "Epoch 6/20\n",
            "100/100 [==============================] - 247s 2s/step - loss: 0.2017 - accuracy: 0.9094 - val_loss: 0.2181 - val_accuracy: 0.9375\n",
            "Epoch 7/20\n",
            "100/100 [==============================] - 244s 2s/step - loss: 0.1765 - accuracy: 0.9294 - val_loss: 0.1847 - val_accuracy: 0.9375\n",
            "INFO:tensorflow:Assets written to: ./assets\n",
            "Epoch 8/20\n",
            "100/100 [==============================] - 246s 2s/step - loss: 0.1877 - accuracy: 0.9225 - val_loss: 0.2279 - val_accuracy: 0.9375\n",
            "Epoch 9/20\n",
            "100/100 [==============================] - 241s 2s/step - loss: 0.2017 - accuracy: 0.9187 - val_loss: 0.3100 - val_accuracy: 0.8125\n",
            "Epoch 10/20\n",
            "100/100 [==============================] - 240s 2s/step - loss: 0.1621 - accuracy: 0.9369 - val_loss: 0.2623 - val_accuracy: 0.9375\n",
            "INFO:tensorflow:Assets written to: ./assets\n",
            "Epoch 11/20\n",
            "100/100 [==============================] - 240s 2s/step - loss: 0.1777 - accuracy: 0.9300 - val_loss: 0.1871 - val_accuracy: 0.9375\n",
            "Epoch 12/20\n",
            "100/100 [==============================] - 240s 2s/step - loss: 0.1894 - accuracy: 0.9269 - val_loss: 0.2002 - val_accuracy: 0.9375\n",
            "Epoch 13/20\n",
            "100/100 [==============================] - 241s 2s/step - loss: 0.1496 - accuracy: 0.9413 - val_loss: 0.2059 - val_accuracy: 0.9375\n",
            "INFO:tensorflow:Assets written to: ./assets\n",
            "Epoch 14/20\n",
            "100/100 [==============================] - 240s 2s/step - loss: 0.1714 - accuracy: 0.9337 - val_loss: 0.1973 - val_accuracy: 0.9375\n",
            "Epoch 15/20\n",
            "100/100 [==============================] - 240s 2s/step - loss: 0.1654 - accuracy: 0.9337 - val_loss: 0.2116 - val_accuracy: 0.9375\n",
            "Epoch 16/20\n",
            "100/100 [==============================] - 240s 2s/step - loss: 0.1460 - accuracy: 0.9444 - val_loss: 0.1983 - val_accuracy: 0.9375\n",
            "INFO:tensorflow:Assets written to: ./assets\n",
            "Epoch 17/20\n",
            "100/100 [==============================] - 240s 2s/step - loss: 0.1561 - accuracy: 0.9381 - val_loss: 0.1930 - val_accuracy: 1.0000\n",
            "Epoch 18/20\n",
            "100/100 [==============================] - 239s 2s/step - loss: 0.1539 - accuracy: 0.9394 - val_loss: 0.1928 - val_accuracy: 0.9375\n",
            "Epoch 19/20\n",
            "100/100 [==============================] - 239s 2s/step - loss: 0.1593 - accuracy: 0.9356 - val_loss: 0.1930 - val_accuracy: 0.9375\n",
            "Epoch 20/20\n",
            "100/100 [==============================] - 238s 2s/step - loss: 0.1369 - accuracy: 0.9500 - val_loss: 0.1936 - val_accuracy: 0.9375\n",
            "INFO:tensorflow:Assets written to: ./assets\n"
          ]
        }
      ]
    },
    {
      "cell_type": "code",
      "metadata": {
        "colab": {
          "background_save": true
        },
        "id": "CG5-DLm-koed",
        "outputId": "a0f10c0b-c51a-437e-a52c-9ec5acacbca7"
      },
      "source": [
        "plt.figure(figsize=(12,6))\n",
        "\n",
        "plt.subplot(121)\n",
        "plt.plot(history.history[\"accuracy\"], label=\"Train accuracy\")\n",
        "plt.plot(history.history[\"val_accuracy\"], label=\"Val accuracy\")\n",
        "plt.title(\"Accuracy\")\n",
        "plt.legend()\n",
        "\n",
        "plt.subplot(122)\n",
        "plt.plot(history.history[\"loss\"], label=\"Train loss\")\n",
        "plt.plot(history.history[\"val_loss\"], label=\"Val loss\")\n",
        "plt.title(\"Loss\")\n",
        "plt.legend();"
      ],
      "execution_count": null,
      "outputs": [
        {
          "data": {
            "image/png": "[encoded data removed]",
            "text/plain": [
              "<Figure size 864x432 with 2 Axes>"
            ]
          },
          "metadata": {},
          "output_type": "display_data"
        }
      ]
    },
    {
      "cell_type": "code",
      "metadata": {
        "colab": {
          "background_save": true
        },
        "id": "qpWoO5KIkogk",
        "outputId": "2c513dab-7963-400f-cfb5-3de9ac6b81c6"
      },
      "source": [
        "model.evaluate(test_generator)"
      ],
      "execution_count": null,
      "outputs": [
        {
          "name": "stdout",
          "output_type": "stream",
          "text": [
            "39/39 [==============================] - 217s 6s/step - loss: 0.2705 - accuracy: 0.8942\n"
          ]
        },
        {
          "data": {
            "text/plain": [
              "[0.2704949378967285, 0.8942307829856873]"
            ]
          },
          "execution_count": null,
          "metadata": {},
          "output_type": "execute_result"
        }
      ]
    },
    {
      "cell_type": "code",
      "metadata": {
        "colab": {
          "background_save": true
        },
        "id": "7M-18kt1kok0"
      },
      "source": [
        ""
      ],
      "execution_count": null,
      "outputs": []
    },
    {
      "cell_type": "code",
      "metadata": {
        "colab": {
          "background_save": true
        },
        "id": "EVrQs4pdkoo2"
      },
      "source": [
        ""
      ],
      "execution_count": null,
      "outputs": []
    },
    {
      "cell_type": "code",
      "metadata": {
        "colab": {
          "background_save": true
        },
        "id": "zZClKB4Kkoq-"
      },
      "source": [
        ""
      ],
      "execution_count": null,
      "outputs": []
    },
    {
      "cell_type": "code",
      "metadata": {
        "colab": {
          "background_save": true
        },
        "id": "miotJ5Qjkotd"
      },
      "source": [
        ""
      ],
      "execution_count": null,
      "outputs": []
    },
    {
      "cell_type": "code",
      "metadata": {
        "colab": {
          "background_save": true
        },
        "id": "i5sN4Uhskox9"
      },
      "source": [
        ""
      ],
      "execution_count": null,
      "outputs": []
    }
  ]
}